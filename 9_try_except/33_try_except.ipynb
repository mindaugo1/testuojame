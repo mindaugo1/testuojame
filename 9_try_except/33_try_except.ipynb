{
 "cells": [
  {
   "cell_type": "markdown",
   "metadata": {},
   "source": [
    "# Try Except"
   ]
  },
  {
   "cell_type": "markdown",
   "metadata": {},
   "source": [
    "Esant tikėtinai klaidos situacijai, naudojama try sakinys."
   ]
  },
  {
   "cell_type": "markdown",
   "metadata": {},
   "source": [
    "Toks sakinys veikia panašiai kaip if sakinys, tačiau čia nėra\n",
    "sąlygų tikrinimo"
   ]
  },
  {
   "cell_type": "markdown",
   "metadata": {},
   "source": []
  },
  {
   "cell_type": "code",
   "execution_count": null,
   "metadata": {},
   "outputs": [
    {
     "ename": "KeyError",
     "evalue": "'viso_gero'",
     "output_type": "error",
     "traceback": [
      "\u001b[0;31m---------------------------------------------------------------------------\u001b[0m",
      "\u001b[0;31mKeyError\u001b[0m                                  Traceback (most recent call last)",
      "Cell \u001b[0;32mIn[11], line 2\u001b[0m\n\u001b[1;32m      1\u001b[0m a \u001b[38;5;241m=\u001b[39m {\u001b[38;5;124m\"\u001b[39m\u001b[38;5;124mlabas\u001b[39m\u001b[38;5;124m\"\u001b[39m: \u001b[38;5;241m1\u001b[39m}\n\u001b[0;32m----> 2\u001b[0m \u001b[43ma\u001b[49m\u001b[43m[\u001b[49m\u001b[38;5;124;43m\"\u001b[39;49m\u001b[38;5;124;43mviso_gero\u001b[39;49m\u001b[38;5;124;43m\"\u001b[39;49m\u001b[43m]\u001b[49m\n\u001b[1;32m      3\u001b[0m \u001b[38;5;28mprint\u001b[39m(\u001b[38;5;124m\"\u001b[39m\u001b[38;5;124mbandome tęsti programos vykdymą\u001b[39m\u001b[38;5;124m\"\u001b[39m)\n",
      "\u001b[0;31mKeyError\u001b[0m: 'viso_gero'"
     ]
    }
   ],
   "source": [
    "print(\"bandome tęsti programos vykdymą\")"
   ]
  },
  {
   "cell_type": "code",
   "execution_count": null,
   "metadata": {},
   "outputs": [
    {
     "name": "stdout",
     "output_type": "stream",
     "text": [
      "ka tik gavome klaidą\n",
      "šį tekstą atspausdiname nepriklausomai nuo to ar buvo klaida ar ne\n",
      "bandome tęsti programos vykdymą\n"
     ]
    }
   ],
   "source": [
    "try:\n",
    "    a = {\"labas\": 1}\n",
    "    a[\"viso_gero\"]\n",
    "except Exception as e:\n",
    "    print(\"ka tik gavome klaidą\")\n",
    "else:\n",
    "    print(\"klaidų neužfiksuota\")  # čia bus vykdomas kodas, jei NEKILS problemų\n",
    "finally:\n",
    "    print(\n",
    "        \"šį tekstą atspausdiname nepriklausomai nuo to ar buvo klaida ar ne\"\n",
    "    )  # kodas bus vykdomas nepaisant ar kilo problema, ar ne.\n",
    "\n",
    "\n",
    "print(\"bandome tęsti programos vykdymą\")"
   ]
  },
  {
   "cell_type": "code",
   "execution_count": 9,
   "metadata": {},
   "outputs": [
    {
     "name": "stdout",
     "output_type": "stream",
     "text": [
      "uzdarom narsykle nr 1\n",
      "darbas baigtas su klaidom ar be, nesvarbu\n"
     ]
    }
   ],
   "source": [
    "try:\n",
    "    1 / 1\n",
    "except Exception:\n",
    "    print(0 / 1)\n",
    "else:\n",
    "    print(\"uzdarom narsykle nr 1\")\n",
    "finally:\n",
    "    print(\"darbas baigtas su klaidom ar be, nesvarbu\")"
   ]
  },
  {
   "cell_type": "markdown",
   "metadata": {},
   "source": [
    "# Užduotys"
   ]
  },
  {
   "cell_type": "markdown",
   "metadata": {},
   "source": [
    "Parašykite kodą, kuris paklaustų vartotojo skaičių 𝐴 ir 𝐵,\n",
    "matematinio veiksmo (+, −, /, ∗), atliktų veiksmą, rezultatą\n",
    "išspausdintų. Pritaikykite try bloką, kad išvengtumėte tokių\n",
    "situacijų kaip:\n",
    "• dalyba iš 0;\n",
    "• vietoj skaičiaus tekstas;\n",
    "Pritaikykite visas try bloko šakas."
   ]
  },
  {
   "cell_type": "code",
   "execution_count": null,
   "metadata": {},
   "outputs": [],
   "source": []
  },
  {
   "cell_type": "markdown",
   "metadata": {},
   "source": [
    "Sukurkite programą, kuri:\n",
    "\n",
    "Turi žodyną, pvz., {\"obuolys\": 5, \"bananas\": 3, \"kriaušė\": 7}.\n",
    "Prašo vartotojo įvesti vaisiaus pavadinimą ir atspausdina, kiek jų yra.\n",
    "Naudoja try ir except, kad:\n",
    "Patikrintų, ar vaisius yra žodyne.\n",
    "Jei vaisiaus nėra, praneša: „Tokio vaisiaus nėra sąraše.“"
   ]
  },
  {
   "cell_type": "code",
   "execution_count": null,
   "metadata": {},
   "outputs": [],
   "source": []
  },
  {
   "cell_type": "code",
   "execution_count": 16,
   "metadata": {},
   "outputs": [
    {
     "ename": "TypeError",
     "evalue": "'int' object is not iterable",
     "output_type": "error",
     "traceback": [
      "\u001b[0;31m---------------------------------------------------------------------------\u001b[0m",
      "\u001b[0;31mTypeError\u001b[0m                                 Traceback (most recent call last)",
      "Cell \u001b[0;32mIn[16], line 1\u001b[0m\n\u001b[0;32m----> 1\u001b[0m \u001b[38;5;28;43msum\u001b[39;49m\u001b[43m(\u001b[49m\u001b[38;5;241;43m1\u001b[39;49m\u001b[43m,\u001b[49m\u001b[43m \u001b[49m\u001b[38;5;241;43m2\u001b[39;49m\u001b[43m)\u001b[49m\n",
      "\u001b[0;31mTypeError\u001b[0m: 'int' object is not iterable"
     ]
    }
   ],
   "source": [
    "sum(1, 2)"
   ]
  },
  {
   "cell_type": "code",
   "execution_count": null,
   "metadata": {},
   "outputs": [],
   "source": []
  }
 ],
 "metadata": {
  "kernelspec": {
   "display_name": "base",
   "language": "python",
   "name": "python3"
  },
  "language_info": {
   "codemirror_mode": {
    "name": "ipython",
    "version": 3
   },
   "file_extension": ".py",
   "mimetype": "text/x-python",
   "name": "python",
   "nbconvert_exporter": "python",
   "pygments_lexer": "ipython3",
   "version": "3.11.5"
  }
 },
 "nbformat": 4,
 "nbformat_minor": 2
}
